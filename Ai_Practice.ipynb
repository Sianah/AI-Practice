{
  "nbformat": 4,
  "nbformat_minor": 0,
  "metadata": {
    "colab": {
      "provenance": [],
      "toc_visible": true,
      "mount_file_id": "13iV_EE1qqBr46ooERIQl2BEgo8zo0Bnt",
      "authorship_tag": "ABX9TyMU7cwJj2bzcF45eqtgC5Wh",
      "include_colab_link": true
    },
    "kernelspec": {
      "name": "python3",
      "display_name": "Python 3"
    },
    "language_info": {
      "name": "python"
    }
  },
  "cells": [
    {
      "cell_type": "markdown",
      "metadata": {
        "id": "view-in-github",
        "colab_type": "text"
      },
      "source": [
        "<a href=\"https://colab.research.google.com/github/Sianah/AI-Practice/blob/main/Ai_Practice.ipynb\" target=\"_parent\"><img src=\"https://colab.research.google.com/assets/colab-badge.svg\" alt=\"Open In Colab\"/></a>"
      ]
    },
    {
      "cell_type": "code",
      "execution_count": 3,
      "metadata": {
        "colab": {
          "base_uri": "https://localhost:8080/"
        },
        "id": "I64GBIyso4oJ",
        "outputId": "92c33eb3-34d2-4f4d-93d9-f68fce93c139"
      },
      "outputs": [
        {
          "output_type": "stream",
          "name": "stdout",
          "text": [
            "Requirement already satisfied: openai in /usr/local/lib/python3.10/dist-packages (1.13.3)\n",
            "Requirement already satisfied: anyio<5,>=3.5.0 in /usr/local/lib/python3.10/dist-packages (from openai) (3.7.1)\n",
            "Requirement already satisfied: distro<2,>=1.7.0 in /usr/lib/python3/dist-packages (from openai) (1.7.0)\n",
            "Requirement already satisfied: httpx<1,>=0.23.0 in /usr/local/lib/python3.10/dist-packages (from openai) (0.27.0)\n",
            "Requirement already satisfied: pydantic<3,>=1.9.0 in /usr/local/lib/python3.10/dist-packages (from openai) (2.6.3)\n",
            "Requirement already satisfied: sniffio in /usr/local/lib/python3.10/dist-packages (from openai) (1.3.1)\n",
            "Requirement already satisfied: tqdm>4 in /usr/local/lib/python3.10/dist-packages (from openai) (4.66.2)\n",
            "Requirement already satisfied: typing-extensions<5,>=4.7 in /usr/local/lib/python3.10/dist-packages (from openai) (4.10.0)\n",
            "Requirement already satisfied: idna>=2.8 in /usr/local/lib/python3.10/dist-packages (from anyio<5,>=3.5.0->openai) (3.6)\n",
            "Requirement already satisfied: exceptiongroup in /usr/local/lib/python3.10/dist-packages (from anyio<5,>=3.5.0->openai) (1.2.0)\n",
            "Requirement already satisfied: certifi in /usr/local/lib/python3.10/dist-packages (from httpx<1,>=0.23.0->openai) (2024.2.2)\n",
            "Requirement already satisfied: httpcore==1.* in /usr/local/lib/python3.10/dist-packages (from httpx<1,>=0.23.0->openai) (1.0.4)\n",
            "Requirement already satisfied: h11<0.15,>=0.13 in /usr/local/lib/python3.10/dist-packages (from httpcore==1.*->httpx<1,>=0.23.0->openai) (0.14.0)\n",
            "Requirement already satisfied: annotated-types>=0.4.0 in /usr/local/lib/python3.10/dist-packages (from pydantic<3,>=1.9.0->openai) (0.6.0)\n",
            "Requirement already satisfied: pydantic-core==2.16.3 in /usr/local/lib/python3.10/dist-packages (from pydantic<3,>=1.9.0->openai) (2.16.3)\n"
          ]
        }
      ],
      "source": [
        "!pip install openai\n",
        "import pandas as pd\n",
        "\n",
        "# Creating the dataset as described\n",
        "data = {\n",
        "    \"Question\": [\n",
        "        \"Why is the sky blue?\",\n",
        "        \"How can I reset my password?\",\n",
        "        \"What's the best way to stay healthy?\",\n",
        "        \"Can you tell me about artificial intelligence?\",\n",
        "        \"Why do we dream?\",\n",
        "        \"How does the internet work?\",\n",
        "        \"Why do we need to recycle?\",\n",
        "        \"What is global warming?\",\n",
        "        \"How do I improve my memory?\",\n",
        "        \"What is the secret to happiness?\"\n",
        "    ],\n",
        "    \"Answer\": [\n",
        "        \"Pray, gaze upon the vault so blue, where light doth scatter in yonder expanse, making sight most fair and ever true, a spectacle of nature's own dance.\",\n",
        "        \"If thou wisheth to renew thy secret key, proceed thee to the portal's heart. There, beseech the spirits with thy plea, and a new cipher shall be thine to start.\",\n",
        "        \"To keep thy form in finest fettle, partake of nature's bounty, pure and bright. Let exercise thy daily toil unsettle, and rest under the moon's gentle light.\",\n",
        "        \"A marvel of man's quest for wisdom's peak, a mind of wires and lights, yet soulless still. It learns and grows, yet cannot truly speak of loves or dreams it doth not know nor fill.\",\n",
        "        \"In slumber's hold, our minds do wander far, through tales untold and lands unseen by day. 'Tis there our deepest yearnings are, beneath the moon's soft, ethereal sway.\",\n",
        "        \"Like Puck's swift journey round the globe, so too doth information fly, through cables deep and satellites above, connecting minds with nary a sigh.\",\n",
        "        \"As seasons change and years do pass, so must we tend our Mother Earth. In recycling, like leaves turned to soil, we give waste a new birth.\",\n",
        "        \"The globe doth warm as man's ambition burns, with coal and oil, the air doth choke. Our world, it turns towards a dire fate, unless we mend the harm we've spoke.\",\n",
        "        \"To sharpen thy wit and memory keen, engage in tales and riddles fine. Let books and lore be thy daily feast, and drink deep from the well of mind.\",\n",
        "        \"True joy lies not in gold or jewels bright, but in the love and peace we find. To cherish each day and kin so dear, is the richest treasure of the mind.\"\n",
        "    ]\n",
        "}\n",
        "\n",
        "# Creating the DataFrame\n",
        "df = pd.DataFrame(data)\n",
        "\n",
        "# Saving the DataFrame to a CSV file\n",
        "df.to_csv(\"questions.csv\", index=False)\n",
        "\n",
        "import json\n",
        "import pandas as pd\n",
        "\n",
        "DEFAULT_SYSTEM_PROMPT = 'You are a teaching assistant for Machine Learning. You should help the user to answer his question.'\n",
        "\n",
        "def create_dataset(question, answer):\n",
        "    return {\n",
        "        \"messages\": [\n",
        "            {\"role\": \"system\", \"content\": DEFAULT_SYSTEM_PROMPT},\n",
        "            {\"role\": \"user\", \"content\": question},\n",
        "            {\"role\": \"assistant\", \"content\": answer},\n",
        "        ]\n",
        "    }\n",
        "\n",
        "if __name__ == \"__main__\":\n",
        "    df = pd.read_csv(\"questions.csv\", encoding='cp1252')\n",
        "    with open(\"train.jsonl\", \"w\") as f:\n",
        "        for _, row in df.iterrows():\n",
        "            example_str = json.dumps(create_dataset(row[\"Question\"], row[\"Answer\"]))\n",
        "            f.write(example_str + \"\\n\")\n",
        "\n",
        "\n",
        "# import openai\n",
        "\n",
        "# # Replace with your actual OpenAI API key\n",
        "# openai.api_key = 'your-api-key'\n",
        "\n",
        "# response = openai.Completion.create(\n",
        "#   model=\"ft-<YOUR_ORG>-<MODEL_NAME>:<SUFFIX>\", # Replace with your actual fine-tuned model name\n",
        "#   prompt=\"Your prompt here\",\n",
        "#   max_tokens=50\n",
        "# )\n",
        "\n",
        "# print(response.choices[0].text.strip())"
      ]
    }
  ]
}